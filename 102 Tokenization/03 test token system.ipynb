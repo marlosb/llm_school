{
 "cells": [
  {
   "cell_type": "markdown",
   "id": "4d95a001-2f90-46fa-a169-e04470b1a92f",
   "metadata": {},
   "source": [
    "\n",
    "# Test created tokenizers"
   ]
  },
  {
   "cell_type": "code",
   "execution_count": 1,
   "id": "616038b4-b5b3-4c45-9f08-99e6a02feb20",
   "metadata": {},
   "outputs": [],
   "source": [
    "from concurrent.futures import ThreadPoolExecutor, as_completed\n",
    "from multiprocessing import Pool\n",
    "import os\n",
    "\n",
    "from datasets import load_dataset\n",
    "from tqdm import tqdm\n",
    "from transformers import PreTrainedTokenizerFast"
   ]
  },
  {
   "cell_type": "code",
   "execution_count": 2,
   "id": "a2e08799-7c3f-4b5d-9a7c-cb59278f5e68",
   "metadata": {},
   "outputs": [],
   "source": [
    "tokenizer_paths = [\"portuguese_bpe_tokenizer_1.json\", \n",
    "                   \"portuguese_bpe_tokenizer_2.json\", \n",
    "                   \"portuguese_bpe_tokenizer_3.json\",\n",
    "                   \"portuguese_bpe_tokenizer_4.json\",\n",
    "                   \"portuguese_bpe_tokenizer_5.json\",\n",
    "                   \"portuguese_bpe_tokenizer_6.json\",\n",
    "                   \"portuguese_bpe_tokenizer_7.json\",\n",
    "                   \"portuguese_bpe_tokenizer_8.json\",\n",
    "                   \"portuguese_bpe_tokenizer_9.json\"]\n",
    "dataset = load_dataset(\"TucanoBR/wikipedia-PT\", split=\"train\", cache_dir=\"../data\")"
   ]
  },
  {
   "cell_type": "code",
   "execution_count": 3,
   "id": "521f172d-8326-4759-ac15-0af821869e4b",
   "metadata": {},
   "outputs": [],
   "source": [
    "def load_tokenizers(tokenizer_paths):\n",
    "    \"\"\"Load multiple tokenizers from JSON files.\"\"\"\n",
    "    tokenizers = []\n",
    "    for path in tokenizer_paths:\n",
    "        if not os.path.exists(path):\n",
    "            raise FileNotFoundError(f\"Tokenizer file {path} not found.\")\n",
    "        tokenizer = PreTrainedTokenizerFast(tokenizer_file=path)\n",
    "        tokenizers.append((os.path.basename(path), tokenizer))\n",
    "    return tokenizers"
   ]
  },
  {
   "cell_type": "code",
   "execution_count": 5,
   "id": "8cc338f0-247e-43dc-b2c7-3b930c84b820",
   "metadata": {},
   "outputs": [
    {
     "name": "stdout",
     "output_type": "stream",
     "text": [
      "[('portuguese_bpe_tokenizer_1.json', PreTrainedTokenizerFast(name_or_path='', vocab_size=30000, model_max_length=1000000000000000019884624838656, is_fast=True, padding_side='right', truncation_side='right', special_tokens={}, clean_up_tokenization_spaces=False, added_tokens_decoder={\n",
      "\t0: AddedToken(\"[UNK]\", rstrip=False, lstrip=False, single_word=False, normalized=False, special=True),\n",
      "}\n",
      ")), ('portuguese_bpe_tokenizer_2.json', PreTrainedTokenizerFast(name_or_path='', vocab_size=30000, model_max_length=1000000000000000019884624838656, is_fast=True, padding_side='right', truncation_side='right', special_tokens={}, clean_up_tokenization_spaces=False, added_tokens_decoder={\n",
      "\t0: AddedToken(\"[UNK]\", rstrip=False, lstrip=False, single_word=False, normalized=False, special=True),\n",
      "}\n",
      ")), ('portuguese_bpe_tokenizer_3.json', PreTrainedTokenizerFast(name_or_path='', vocab_size=30000, model_max_length=1000000000000000019884624838656, is_fast=True, padding_side='right', truncation_side='right', special_tokens={}, clean_up_tokenization_spaces=False, added_tokens_decoder={\n",
      "\t0: AddedToken(\"[UNK]\", rstrip=False, lstrip=False, single_word=False, normalized=False, special=True),\n",
      "}\n",
      ")), ('portuguese_bpe_tokenizer_4.json', PreTrainedTokenizerFast(name_or_path='', vocab_size=15000, model_max_length=1000000000000000019884624838656, is_fast=True, padding_side='right', truncation_side='right', special_tokens={}, clean_up_tokenization_spaces=False, added_tokens_decoder={\n",
      "\t0: AddedToken(\"[UNK]\", rstrip=False, lstrip=False, single_word=False, normalized=False, special=True),\n",
      "}\n",
      ")), ('portuguese_bpe_tokenizer_5.json', PreTrainedTokenizerFast(name_or_path='', vocab_size=15000, model_max_length=1000000000000000019884624838656, is_fast=True, padding_side='right', truncation_side='right', special_tokens={}, clean_up_tokenization_spaces=False, added_tokens_decoder={\n",
      "\t0: AddedToken(\"[UNK]\", rstrip=False, lstrip=False, single_word=False, normalized=False, special=True),\n",
      "}\n",
      ")), ('portuguese_bpe_tokenizer_6.json', PreTrainedTokenizerFast(name_or_path='', vocab_size=15000, model_max_length=1000000000000000019884624838656, is_fast=True, padding_side='right', truncation_side='right', special_tokens={}, clean_up_tokenization_spaces=False, added_tokens_decoder={\n",
      "\t0: AddedToken(\"[UNK]\", rstrip=False, lstrip=False, single_word=False, normalized=False, special=True),\n",
      "}\n",
      ")), ('portuguese_bpe_tokenizer_7.json', PreTrainedTokenizerFast(name_or_path='', vocab_size=60000, model_max_length=1000000000000000019884624838656, is_fast=True, padding_side='right', truncation_side='right', special_tokens={}, clean_up_tokenization_spaces=False, added_tokens_decoder={\n",
      "\t0: AddedToken(\"[UNK]\", rstrip=False, lstrip=False, single_word=False, normalized=False, special=True),\n",
      "}\n",
      ")), ('portuguese_bpe_tokenizer_8.json', PreTrainedTokenizerFast(name_or_path='', vocab_size=60000, model_max_length=1000000000000000019884624838656, is_fast=True, padding_side='right', truncation_side='right', special_tokens={}, clean_up_tokenization_spaces=False, added_tokens_decoder={\n",
      "\t0: AddedToken(\"[UNK]\", rstrip=False, lstrip=False, single_word=False, normalized=False, special=True),\n",
      "}\n",
      ")), ('portuguese_bpe_tokenizer_9.json', PreTrainedTokenizerFast(name_or_path='', vocab_size=60000, model_max_length=1000000000000000019884624838656, is_fast=True, padding_side='right', truncation_side='right', special_tokens={}, clean_up_tokenization_spaces=False, added_tokens_decoder={\n",
      "\t0: AddedToken(\"[UNK]\", rstrip=False, lstrip=False, single_word=False, normalized=False, special=True),\n",
      "}\n",
      "))]\n"
     ]
    }
   ],
   "source": [
    "tokenizers = load_tokenizers(tokenizer_paths)\n",
    "#print(tokenizers)"
   ]
  },
  {
   "cell_type": "code",
   "execution_count": 7,
   "id": "a99e6039-3ac4-4095-a375-58a88090a231",
   "metadata": {},
   "outputs": [],
   "source": [
    "def _get_text(sample, text_column='text'):\n",
    "    if isinstance(sample, dict):\n",
    "        return sample.get(text_column)\n",
    "    return getattr(sample, text_column, None)"
   ]
  },
  {
   "cell_type": "code",
   "execution_count": 8,
   "id": "0017fe4f-72bb-49b7-a91e-7636ddd0d059",
   "metadata": {},
   "outputs": [],
   "source": [
    "def split_tokenizers(tokenizers, n):\n",
    "    \"\"\"Split tokenizers into n groups (as evenly as possible).\"\"\"\n",
    "    n = max(1, min(n, len(tokenizers)))\n",
    "    k, m = divmod(len(tokenizers), n)\n",
    "    groups = []\n",
    "    i = 0\n",
    "    for j in range(n):\n",
    "        size = k + (1 if j < m else 0)\n",
    "        groups.append(tokenizers[i:i+size])\n",
    "        i += size\n",
    "    return [g for g in groups if g]"
   ]
  },
  {
   "cell_type": "code",
   "execution_count": 9,
   "id": "f9ddbfc7-c793-4cf2-b723-a8fcbb486c3c",
   "metadata": {},
   "outputs": [],
   "source": [
    "def count_tokens_for_subset(tokenizer_subset, dataset, text_column='text', max_samples=None):\n",
    "    \"\"\"Each worker iterates the ENTIRE dataset but only counts tokens for its tokenizer_subset.\"\"\"\n",
    "    local_counts = {name: 0 for name, _ in tokenizer_subset}\n",
    "    sample_count = 0\n",
    "\n",
    "    n_total = len(dataset)\n",
    "    if max_samples:\n",
    "        n_total = min(n_total, max_samples)\n",
    "\n",
    "    for i in range(n_total):\n",
    "        sample = dataset[i]\n",
    "        text = _get_text(sample, text_column)\n",
    "        if not isinstance(text, str):\n",
    "            continue\n",
    "        for name, tokenizer in tokenizer_subset:\n",
    "            local_counts[name] += len(tokenizer.encode(text, add_special_tokens=False))\n",
    "        sample_count += 1\n",
    "\n",
    "    return local_counts, sample_count"
   ]
  },
  {
   "cell_type": "code",
   "execution_count": 10,
   "id": "493f5732-f67a-43f5-a9b4-9cc8806be031",
   "metadata": {},
   "outputs": [],
   "source": [
    "# Parameters\n",
    "n_workers = min(6, len(tokenizers))\n",
    "max_samples = None  # set to an integer to limit processed samples\n",
    "subsets = split_tokenizers(tokenizers, n_workers)\n",
    "\n",
    "# Run threads: each thread processes entire dataset but only its subset of tokenizers\n",
    "total_counts = {name: 0 for name, _ in tokenizers}\n",
    "sample_count = None"
   ]
  },
  {
   "cell_type": "code",
   "execution_count": 11,
   "id": "3989f689",
   "metadata": {},
   "outputs": [
    {
     "name": "stdout",
     "output_type": "stream",
     "text": [
      "Finished threaded counting over full dataset per tokenizer subset\n",
      "for tokenizer: portuguese_bpe_tokenizer_1.json total tokens are: 608,321,068\n",
      "for tokenizer: portuguese_bpe_tokenizer_2.json total tokens are: 604,103,063\n",
      "for tokenizer: portuguese_bpe_tokenizer_3.json total tokens are: 603,705,401\n",
      "for tokenizer: portuguese_bpe_tokenizer_4.json total tokens are: 674,601,344\n",
      "for tokenizer: portuguese_bpe_tokenizer_5.json total tokens are: 661,595,424\n",
      "for tokenizer: portuguese_bpe_tokenizer_6.json total tokens are: 661,736,917\n",
      "for tokenizer: portuguese_bpe_tokenizer_7.json total tokens are: 561,148,010\n",
      "for tokenizer: portuguese_bpe_tokenizer_8.json total tokens are: 559,658,771\n",
      "for tokenizer: portuguese_bpe_tokenizer_9.json total tokens are: 560,224,561\n",
      "sample_count: 1103446\n",
      "CPU times: total: 2h 10min 25s\n",
      "Wall time: 31min 29s\n"
     ]
    }
   ],
   "source": [
    "%%time\n",
    "\n",
    "with ThreadPoolExecutor(max_workers=len(subsets)) as executor:\n",
    "    futures = [executor.submit(count_tokens_for_subset, subset, dataset, 'text', max_samples) for subset in subsets]\n",
    "    for fut in as_completed(futures):\n",
    "        local_counts, local_samples = fut.result()\n",
    "        for k, v in local_counts.items():\n",
    "            total_counts[k] += v\n",
    "        if sample_count is None:\n",
    "            sample_count = local_samples\n",
    "\n",
    "print(\"Finished threaded counting over full dataset per tokenizer subset\")\n",
    "print_count(total_counts)\n",
    "print(\"sample_count:\", sample_count)"
   ]
  },
  {
   "cell_type": "markdown",
   "id": "22bc554a-cc48-4866-8922-3f6cc1fd8fc6",
   "metadata": {},
   "source": [
    "| Name | Vocab Size | sample size |   token count  |\n",
    "|------|------------|-------------|----------------|\n",
    "| 1    |   30,000   | 679,609     | 608,321,068    |\n",
    "| 2    |   30,000   | 657,685     | 604,103,063    |\n",
    "| 3    |   30,000   | 200,000     | 603,705,401    |\n",
    "| 4    |   15,000   | 679,609     | 674,601,344    |\n",
    "| 5    |   15,000   | 657,685     | 661,595,424    |\n",
    "| 6    |   15,000   | 200,000     | 661,736,917    |\n",
    "| 7    |   60,000   | 679,609     | 561,148,010    |\n",
    "| 8    |   60,000   | 657,685     | 559,658,771    |\n",
    "| 9    |   60,000   | 200,000     | 560,224,561    |"
   ]
  },
  {
   "cell_type": "code",
   "execution_count": null,
   "id": "fada0eda-24d5-40c0-8faf-078e824e645d",
   "metadata": {},
   "outputs": [],
   "source": []
  }
 ],
 "metadata": {
  "kernelspec": {
   "display_name": "Python 3 (ipykernel)",
   "language": "python",
   "name": "python3"
  },
  "language_info": {
   "codemirror_mode": {
    "name": "ipython",
    "version": 3
   },
   "file_extension": ".py",
   "mimetype": "text/x-python",
   "name": "python",
   "nbconvert_exporter": "python",
   "pygments_lexer": "ipython3",
   "version": "3.13.3"
  }
 },
 "nbformat": 4,
 "nbformat_minor": 5
}
