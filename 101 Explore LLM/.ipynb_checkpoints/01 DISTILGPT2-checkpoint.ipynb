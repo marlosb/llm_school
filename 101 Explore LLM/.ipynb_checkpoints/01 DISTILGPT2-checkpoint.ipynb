{
 "cells": [
  {
   "cell_type": "markdown",
   "id": "5cc0f883-cf25-4867-a618-00bc86b48694",
   "metadata": {},
   "source": [
    "# 01 - DISTILGPT2\n",
    "\n",
    "We will get started by open and exploring distilgpt2 model: https://huggingface.co/distilbert/distilgpt2\n",
    "This model is a distilation of OpenAI's GPT-2 but smaller (6 transformers blocks and 82M parametres instead of 12 transformers blocks and 124M parametetrs from GPT-2)."
   ]
  },
  {
   "cell_type": "code",
   "execution_count": 1,
   "id": "5f20d7f3-4dc0-41b8-8947-6b384e543691",
   "metadata": {},
   "outputs": [],
   "source": [
    "import os\n",
    "\n",
    "from huggingface_hub import login\n",
    "import torch\n",
    "from transformers import AutoConfig, AutoModelForCausalLM, AutoTokenizer"
   ]
  },
  {
   "cell_type": "code",
   "execution_count": 2,
   "id": "9e937fcf-ffe2-45d9-abc8-c98de06a13b2",
   "metadata": {},
   "outputs": [],
   "source": [
    "# login to Hugging Face, login token is in an environment variable\n",
    "login(token=os.getenv(\"HUGGINGFACE_HUB_TOKEN\"))"
   ]
  },
  {
   "cell_type": "markdown",
   "id": "5baebb7d-b730-4d89-80f7-f59b27e099cd",
   "metadata": {},
   "source": [
    "## Load model from hugging face"
   ]
  },
  {
   "cell_type": "code",
   "execution_count": 3,
   "id": "0ef82cef-bb5c-425b-8c1a-fda041f0e084",
   "metadata": {},
   "outputs": [],
   "source": [
    "tokenizer = AutoTokenizer.from_pretrained(\"distilgpt2\", cache_dir=r\"D:\\hf_files\")  \n",
    "model = AutoModelForCausalLM.from_pretrained(\"distilgpt2\", cache_dir=r\"D:\\hf_files\")"
   ]
  },
  {
   "attachments": {
    "cac6edcf-ea18-49dc-8fb8-7a25ee50fa86.png": {
     "image/png": "[encoded data removed]"
    }
   },
   "cell_type": "markdown",
   "id": "79f31cd6-7749-4d85-ae1f-29f52d01ecad",
   "metadata": {},
   "source": [
    "## Explore tokenizer\n",
    "The LLMs don't break words in syllables neither letters. It has its own form of breaking text, each individual piece of the split text is a token. Different models have different token system. A token can be a single word, a piece of a word, a single character or even more then one work. A cool way to explore how tokenized texts is OpenAI's tokenizer webapp: https://platform.openai.com/tokenizer . They create it to help people visualize the tokenization output. ![image.png](attachment:cac6edcf-ea18-49dc-8fb8-7a25ee50fa86.png) <br> The token system is create during model training. Each token has its own ID. The very first step when using a LLM is transform text in tokens (encode). The very last step when using a LLM is converst its response in tokens back to text (decode)."
   ]
  },
  {
   "cell_type": "code",
   "execution_count": 4,
   "id": "24dd5e9a-b866-4a15-a747-874aaa4a15b8",
   "metadata": {},
   "outputs": [
    {
     "name": "stdout",
     "output_type": "stream",
     "text": [
      "[15496, 11, 2011, 1545, 0]\n",
      "5\n"
     ]
    }
   ],
   "source": [
    "# tokenize string to see output\n",
    "messages = \"Hello, My friend!\" \n",
    "tokens = tokenizer.encode(messages)  \n",
    "print(tokens)           # list of token IDs  \n",
    "print(len(tokens))      # number of tokens  "
   ]
  },
  {
   "cell_type": "code",
   "execution_count": 5,
   "id": "daf378cb-16d1-411e-a479-845994f20aa1",
   "metadata": {},
   "outputs": [
    {
     "name": "stdout",
     "output_type": "stream",
     "text": [
      "Hello, My friend!\n"
     ]
    }
   ],
   "source": [
    "#retunr token list back to string\n",
    "decoded_text = tokenizer.decode(tokens)  \n",
    "print(decoded_text) "
   ]
  },
  {
   "cell_type": "code",
   "execution_count": 6,
   "id": "8a5f7e3d-6ac4-4448-a767-c00f834751e8",
   "metadata": {},
   "outputs": [
    {
     "name": "stdout",
     "output_type": "stream",
     "text": [
      "[15496, 23748, 11, 2011, 1545, 0]\n",
      "6\n"
     ]
    }
   ],
   "source": [
    "# note that \"Hello\" and \"hello\" are differente tokens\n",
    "messages = \"Hello hello, My friend!\" \n",
    "tokens = tokenizer.encode(messages)  \n",
    "print(tokens)           # list of token IDs  \n",
    "print(len(tokens))      # number of tokens  "
   ]
  },
  {
   "cell_type": "code",
   "execution_count": 7,
   "id": "9bd49739-0472-4222-a944-ff867593af8f",
   "metadata": {},
   "outputs": [
    {
     "name": "stdout",
     "output_type": "stream",
     "text": [
      "[31373, 23748, 11, 2011, 1545, 0]\n",
      "6\n"
     ]
    }
   ],
   "source": [
    "# even with both words starting with lowercase letter they are different tokens\n",
    "# one is start of string, another is preceeded by whitespace \n",
    "messages = \"hello hello, My friend!\" \n",
    "tokens = tokenizer.encode(messages)  \n",
    "print(tokens)           # list of token IDs  \n",
    "print(len(tokens))      # number of tokens  "
   ]
  },
  {
   "cell_type": "code",
   "execution_count": 8,
   "id": "f8755826-bfa6-45ae-80ea-8f801e346d49",
   "metadata": {},
   "outputs": [
    {
     "name": "stdout",
     "output_type": "stream",
     "text": [
      "[23748, 23748, 11, 2011, 1545, 0]\n",
      "6\n"
     ]
    }
   ],
   "source": [
    "# even with both words starting with lowercase letter they are different tokens\n",
    "messages = \" hello hello, My friend!\" \n",
    "tokens = tokenizer.encode(messages)  \n",
    "print(tokens)           # list of token IDs  \n",
    "print(len(tokens))      # number of tokens  "
   ]
  },
  {
   "cell_type": "markdown",
   "id": "9ca13d48-9288-44dd-b79d-f00879f4b247",
   "metadata": {},
   "source": [
    "## Explore the model\n",
    "LLMs are made of several layers with different roles. Let's understand all these layer and its roles"
   ]
  },
  {
   "cell_type": "code",
   "execution_count": 9,
   "id": "69447a61-b8d2-4da0-b68d-9fdde041fee6",
   "metadata": {},
   "outputs": [
    {
     "name": "stdout",
     "output_type": "stream",
     "text": [
      "GPT2LMHeadModel(\n",
      "  (transformer): GPT2Model(\n",
      "    (wte): Embedding(50257, 768)\n",
      "    (wpe): Embedding(1024, 768)\n",
      "    (drop): Dropout(p=0.1, inplace=False)\n",
      "    (h): ModuleList(\n",
      "      (0-5): 6 x GPT2Block(\n",
      "        (ln_1): LayerNorm((768,), eps=1e-05, elementwise_affine=True)\n",
      "        (attn): GPT2Attention(\n",
      "          (c_attn): Conv1D(nf=2304, nx=768)\n",
      "          (c_proj): Conv1D(nf=768, nx=768)\n",
      "          (attn_dropout): Dropout(p=0.1, inplace=False)\n",
      "          (resid_dropout): Dropout(p=0.1, inplace=False)\n",
      "        )\n",
      "        (ln_2): LayerNorm((768,), eps=1e-05, elementwise_affine=True)\n",
      "        (mlp): GPT2MLP(\n",
      "          (c_fc): Conv1D(nf=3072, nx=768)\n",
      "          (c_proj): Conv1D(nf=768, nx=3072)\n",
      "          (act): NewGELUActivation()\n",
      "          (dropout): Dropout(p=0.1, inplace=False)\n",
      "        )\n",
      "      )\n",
      "    )\n",
      "    (ln_f): LayerNorm((768,), eps=1e-05, elementwise_affine=True)\n",
      "  )\n",
      "  (lm_head): Linear(in_features=768, out_features=50257, bias=False)\n",
      ")\n"
     ]
    }
   ],
   "source": [
    "# see model's details\n",
    "print(model)  "
   ]
  },
  {
   "cell_type": "markdown",
   "id": "bdc58ab3-5b4e-4d8d-96c7-799ee70e397a",
   "metadata": {},
   "source": [
    "### wte (Word Token Embedding)\n",
    "Each token has its own embedding vector. These embedding vectors were created during training. <br> The details provided for this fase are: <br>`(wte): Embedding(50257, 768)` <br> From this details we can learn: <br> - there are 50257 tokens (all text is mapped to one of this tokens)<br> - the embedding vector have dimension 768 (embedding vectors have fixed size)<br> Each token has a embedding vector (dense) of dimension 768. During this layer a lookup table is used and the embedding vector of each input token is recovered. The output is the embedding matrix, where each line represents one input token."
   ]
  },
  {
   "cell_type": "code",
   "execution_count": 10,
   "id": "39ad50ae-9061-4db1-9d46-270c545a5897",
   "metadata": {},
   "outputs": [
    {
     "name": "stdout",
     "output_type": "stream",
     "text": [
      "tensor([[[ 0.0653, -0.1096,  0.1105,  ..., -0.0884,  0.1287,  0.0113],\n",
      "         [ 0.0653, -0.1096,  0.1105,  ..., -0.0884,  0.1287,  0.0113],\n",
      "         [ 0.0086, -0.0009,  0.0056,  ...,  0.0484, -0.0737, -0.0636],\n",
      "         [ 0.0714,  0.1300,  0.1132,  ...,  0.1220, -0.0033,  0.0546],\n",
      "         [-0.0640, -0.1471,  0.0998,  ..., -0.0914,  0.1967,  0.1006],\n",
      "         [-0.1445, -0.0455,  0.0042,  ..., -0.1523,  0.0184,  0.0991]]],\n",
      "       grad_fn=<EmbeddingBackward0>)\n"
     ]
    }
   ],
   "source": [
    "# enconde again now generating a Tensor as output\n",
    "tokens = tokenizer(messages,  return_tensors=\"pt\") \n",
    "\n",
    "# visualize the embedding matrix\n",
    "# notice that repeated tokens recovery same embedding\n",
    "token_embeds = model.transformer.wte(tokens[\"input_ids\"])  # (batch, seq_len, 768)  \n",
    "print(token_embeds)"
   ]
  },
  {
   "cell_type": "markdown",
   "id": "8b0930cc-a995-46b6-83cd-fd02893ea7f7",
   "metadata": {},
   "source": [
    "### wpe (Word position Embedding)\n",
    "The token position in the string is important. So, this layer adds this is about this information. Each position in the string have an embedding vector.  <br> The details provided for this fase are: <br>`(wpe): Embedding(1024, 768)` <br> From this details we can learn: <br> - the maximum token window size is 1024<br> - the embedding vector also have dimension 768 (embedding vectors have fixed size)<br> During this layer a lookup table is used and the embedding vector of each position is recovered. The output is the embedding matrix, where each line represents one position."
   ]
  },
  {
   "cell_type": "code",
   "execution_count": 11,
   "id": "5557901e-e619-4a6d-9d8f-5ad09d223acc",
   "metadata": {},
   "outputs": [
    {
     "name": "stdout",
     "output_type": "stream",
     "text": [
      "tensor([[[-1.8821e-02, -1.9742e-01,  4.0267e-03,  ..., -4.3044e-02,\n",
      "           2.8267e-02,  5.4490e-02],\n",
      "         [ 2.3959e-02, -5.3792e-02, -9.4879e-02,  ...,  3.4170e-02,\n",
      "           1.0172e-02, -1.5573e-04],\n",
      "         [ 4.2161e-03, -8.4764e-02,  5.4515e-02,  ...,  1.9745e-02,\n",
      "           1.9325e-02, -2.1424e-02],\n",
      "         [-2.8337e-04, -7.3803e-02,  1.0553e-01,  ...,  1.0157e-02,\n",
      "           1.7659e-02, -7.0854e-03],\n",
      "         [ 7.6374e-03, -2.5090e-02,  1.2696e-01,  ...,  8.4643e-03,\n",
      "           9.8542e-03, -7.0117e-03],\n",
      "         [ 9.6023e-03, -3.3885e-02,  1.3123e-01,  ...,  5.8940e-03,\n",
      "           7.1222e-03, -7.4742e-03]]], grad_fn=<EmbeddingBackward0>)\n"
     ]
    }
   ],
   "source": [
    "# see embeddings of positions\n",
    "position_ids = torch.arange(0, tokens['input_ids'].size(1)).unsqueeze(0)\n",
    "\n",
    "pos_embeds   = model.transformer.wpe(position_ids)\n",
    "print(pos_embeds)"
   ]
  },
  {
   "cell_type": "markdown",
   "id": "97ceb2b0-7d58-4f82-a5f0-2c1ce14fe18e",
   "metadata": {},
   "source": [
    "### wte + wpe\n",
    "A linear sum between wte and wpe output is performed now. Both are matrix with same size, the number of row is the number of tokens in the input and the number of columns is the embedding vector size. The output is also a matrix with same dimension."
   ]
  },
  {
   "cell_type": "code",
   "execution_count": 12,
   "id": "3e99ffe6-fbaf-4291-b77e-e33d6b0a9546",
   "metadata": {},
   "outputs": [
    {
     "name": "stdout",
     "output_type": "stream",
     "text": [
      "tensor([[[ 0.0465, -0.3070,  0.1146,  ..., -0.1315,  0.1570,  0.0658],\n",
      "         [ 0.0893, -0.1634,  0.0157,  ..., -0.0543,  0.1389,  0.0112],\n",
      "         [ 0.0128, -0.0856,  0.0601,  ...,  0.0681, -0.0544, -0.0850],\n",
      "         [ 0.0711,  0.0562,  0.2187,  ...,  0.1322,  0.0143,  0.0475],\n",
      "         [-0.0564, -0.1722,  0.2268,  ..., -0.0830,  0.2066,  0.0936],\n",
      "         [-0.1349, -0.0794,  0.1355,  ..., -0.1464,  0.0255,  0.0916]]],\n",
      "       grad_fn=<AddBackward0>)\n"
     ]
    }
   ],
   "source": [
    "input_embeddings = token_embeds + pos_embeds\n",
    "print(input_embeddings)"
   ]
  },
  {
   "cell_type": "markdown",
   "id": "eeb55635-4d23-4d89-a60e-01c3303adbf3",
   "metadata": {},
   "source": [
    "### Dropout\n",
    "Dropout is a regularization technique used to prevent overfitting by randomly setting a fraction of the input elements to zero during training. This forces the model to learn more robust features.\n",
    "<br> The details provided for this fase are: <br>`(drop): Dropout(p=0.1, inplace=False)` <br> From this details we can learn: <br> - dropout happens to 10% of elements<br> - a new vector is generated instead of replace values of the existing vector inplace=False<br>\n",
    "So, during training, for each embedding vector in the input matrix 10% of the elements are randomly choose and set to 0. All remaining values are increase to maintaing the expectec sum value. During inference the dropout is disabled."
   ]
  },
  {
   "cell_type": "markdown",
   "id": "42a177ac-a3a5-4713-b920-265401df40df",
   "metadata": {},
   "source": [
    "### Transformation Block\n",
    "In this part we have the tranformers architecture. <br> The details provided for this fase are: <br>`(0-5): 6 x GPT2Block(` <br> It means that there are 6 transformation blocks with same architecture called GPT2Block index from 0 to 5. Now <br> \n",
    "#### Normalization Layer 1 (ln_1)\n",
    "<br> The first layer is a normalization layer and its details are: <br> `(ln_1): LayerNorm((768,), eps=1e-05, elementwise_affine=True)`<br> It means:<br> - The normalization is applied to all 768 elements of each embedding <br> - A small constant is added to denominator (1e-5) to avoid division by zero<br> - the element wise affine enables and advanced normalization (z-score) technique that apply gama (proportional) and beta (constant) parameters to the output of basic normalization. Both gamma and betta are learned along the training process so it allows the normalization to adapt to the data.<br> By normalizing the inputs to the transformer block, it ensures that the activations remain well-behaved, which is crucial for the stability of deep networks like GPT\n",
    "\n"
   ]
  },
  {
   "cell_type": "code",
   "execution_count": 13,
   "id": "480ab41b-d8e6-43d4-9923-92179ae2f82f",
   "metadata": {},
   "outputs": [
    {
     "name": "stdout",
     "output_type": "stream",
     "text": [
      "LayerNorm input: (tensor([[[ 0.0465, -0.3070,  0.1146,  ..., -0.1315,  0.1570,  0.0658],\n",
      "         [ 0.0893, -0.1634,  0.0157,  ..., -0.0543,  0.1389,  0.0112],\n",
      "         [ 0.0128, -0.0856,  0.0601,  ...,  0.0681, -0.0544, -0.0850],\n",
      "         [ 0.0711,  0.0562,  0.2187,  ...,  0.1322,  0.0143,  0.0475],\n",
      "         [-0.0564, -0.1722,  0.2268,  ..., -0.0830,  0.2066,  0.0936],\n",
      "         [-0.1349, -0.0794,  0.1355,  ..., -0.1464,  0.0255,  0.0916]]]),)\n",
      "\n",
      "LayerNorm output: tensor([[[ 0.0344, -0.1351,  0.0305,  ..., -0.0629,  0.0545,  0.0270],\n",
      "         [ 0.0923, -0.1218, -0.0079,  ..., -0.0457,  0.0874,  0.0023],\n",
      "         [ 0.0214, -0.0658,  0.0307,  ...,  0.0636, -0.0639, -0.0840],\n",
      "         [ 0.0919,  0.0721,  0.1640,  ...,  0.1291, -0.0011,  0.0431],\n",
      "         [-0.0565, -0.1489,  0.1654,  ..., -0.0777,  0.1644,  0.0825],\n",
      "         [-0.1509, -0.0637,  0.0963,  ..., -0.1427,  0.0067,  0.0842]]])\n"
     ]
    }
   ],
   "source": [
    "# Set model to evaluation mode (disable dropout for consistency)\n",
    "model.eval()\n",
    "\n",
    "# Register a forward hook to capture the LayerNorm output from the first block (block 0)\n",
    "def hook(module, hook_input, output):\n",
    "    print(\"LayerNorm input:\", hook_input)\n",
    "    print(\"\\nLayerNorm output:\", output)\n",
    "\n",
    "# Attach the hook to the ln_1 of the first GPT2Block (index 0)\n",
    "hook_handle = model.transformer.h[0].ln_1.register_forward_hook(hook)\n",
    "\n",
    "# Forward pass through the model\n",
    "with torch.no_grad():  # Disable gradient computation for efficiency\n",
    "    outputs = model(tokens['input_ids'])\n",
    "\n",
    "# Remove the hook after use\n",
    "hook_handle.remove()"
   ]
  },
  {
   "cell_type": "markdown",
   "id": "ea22c803-d9a0-460d-b285-e0b6e37c01de",
   "metadata": {},
   "source": [
    "#### Attention Layer\n",
    "This layer implements the self-attention mechanism, a core part of the transformer architecture. The layer is responsible for allowing the model to focus on different parts of the input sequence when processing each token.<br>\n",
    "Let's see it in details:<br>\n",
    "`(attn): GPT2Attention(`<br>\n",
    "`    (c_attn): Conv1D(nf=2304, nx=768)`<br>\n",
    "`    (c_proj): Conv1D(nf=768, nx=768)`<br>\n",
    "`    (attn_dropout): Dropout(p=0.1, inplace=False)`<br>\n",
    "`    (resid_dropout): Dropout(p=0.1, inplace=False)`<br>\n",
    "`)`<br>\n",
    " - `(c_attn): Conv1D(nf=2304, nx=768)`: A 1D convolution layer that projects the input into query, key, and value vectors. A convolution kernel is applied to each token vector and, as result of the convolution, 3 vectors a created Query (Q), Key (K) and Value (V). This is an Attention Component."
   ]
  },
  {
   "cell_type": "code",
   "execution_count": 14,
   "id": "267e160d-af01-4ce0-acb5-bc78672ac3ed",
   "metadata": {},
   "outputs": [
    {
     "name": "stdout",
     "output_type": "stream",
     "text": [
      "Attention output: (tensor([[[-0.0570,  0.1594, -0.4522,  ...,  0.0009,  0.0534,  0.0127],\n",
      "         [-0.4796,  0.6074, -0.7725,  ..., -0.0054,  0.0342, -0.0250],\n",
      "         [ 0.5455,  0.3538, -0.5408,  ...,  0.0220,  0.0340,  0.0448],\n",
      "         [-0.0961,  0.2955, -0.3571,  ...,  0.0276,  0.0669,  0.0506],\n",
      "         [ 0.8775,  0.3109, -0.1867,  ..., -0.0256,  0.0185,  0.0135],\n",
      "         [ 0.8812, -0.3464,  0.3855,  ...,  0.0118,  0.0187,  0.0869]]]), None)\n"
     ]
    }
   ],
   "source": [
    "def hook2(module, hook_input, output):\n",
    "    #print(\"Attention output shape:\", output.shape)\n",
    "    print(\"Attention output:\", output)\n",
    "\n",
    "# Attach hook to the attn layer of the first block\n",
    "hook_handle = model.transformer.h[0].attn.register_forward_hook(hook2)\n",
    "\n",
    "with torch.no_grad():\n",
    "    model(tokens['input_ids'])\n",
    "\n",
    "hook_handle.remove()"
   ]
  },
  {
   "cell_type": "markdown",
   "id": "c0641ec3-6fbe-479e-a77f-6d64ba9fe0b9",
   "metadata": {},
   "source": [
    "- `(c_proj): Conv1D(nf=768, nx=768)`: A new kernel is applied to the result of (c_attn) and a vector with dimension 768 is generated as result. Returning it back to original dimesion. This is an Projection Component.<br> Rhe (c_proj) layer allows the model to learn a separate transformation for the attention output, which can help adjust the scale, emphasize certain features, or align the output with the input dimension for the residual connection (where the c_proj output is added to the input of the block).\n",
    "\n"
   ]
  },
  {
   "cell_type": "code",
   "execution_count": 15,
   "id": "d3b5fbf9-2fa8-4daa-a9a7-e527f2ba178a",
   "metadata": {},
   "outputs": [
    {
     "name": "stdout",
     "output_type": "stream",
     "text": [
      "c_proj output shape: torch.Size([1, 6, 768])\n",
      "c_proj output: tensor([[[-0.0570,  0.1594, -0.4522,  ...,  0.0009,  0.0534,  0.0127],\n",
      "         [-0.4796,  0.6074, -0.7725,  ..., -0.0054,  0.0342, -0.0250],\n",
      "         [ 0.5455,  0.3538, -0.5408,  ...,  0.0220,  0.0340,  0.0448],\n",
      "         [-0.0961,  0.2955, -0.3571,  ...,  0.0276,  0.0669,  0.0506],\n",
      "         [ 0.8775,  0.3109, -0.1867,  ..., -0.0256,  0.0185,  0.0135],\n",
      "         [ 0.8812, -0.3464,  0.3855,  ...,  0.0118,  0.0187,  0.0869]]])\n"
     ]
    }
   ],
   "source": [
    "def hook3(module, hook_input, output):\n",
    "    print(\"c_proj output shape:\", output.shape)\n",
    "    print(\"c_proj output:\", output)\n",
    "\n",
    "hook_handle = model.transformer.h[0].attn.c_proj.register_forward_hook(hook3)\n",
    "\n",
    "with torch.no_grad():\n",
    "    model(tokens['input_ids'])\n",
    "\n",
    "hook_handle.remove()"
   ]
  },
  {
   "cell_type": "markdown",
   "id": "5ff3b5c2-a176-4589-a930-2b5673ca6eca",
   "metadata": {},
   "source": [
    "- `(attn_dropout): Dropout(p=0.1, inplace=False)`: This dropout is applied to the attention weights before they are used to compute the weighted sum of the value vectors (i.e., after the softmax((QK^T)/√d_k) step but before multiplying by V). It regularizes the attention mechanism by randomly setting 10% of the attention weight values to zero during training. This prevents the model from relying too heavily on any single attention relationship between tokens, encouraging more robust feature learning.<br>\n",
    "\n",
    "\n",
    "\n",
    "\n",
    " - `(resid_dropout): Dropout(p=0.1, inplace=False)`: This dropout is applied to the output of c_proj (the projected attention output, shape (batch_size, seq_len, 768) after the attention computation and projection but before the residual connection is added. It regularizes the final output of the attention block by randomly setting 10% of the elements in the 768-dimensional vectors to zero during training. This helps prevent overfitting by introducing noise and ensuring the model doesn’t depend too much on specific features in the attention output.<br>\n",
    "\n",
    "It completes the Attention Module."
   ]
  },
  {
   "cell_type": "markdown",
   "id": "407c761c-bc54-4eb9-8e22-5754905d1fc2",
   "metadata": {},
   "source": [
    "#### Normalization Layer 2 (ln_2)\n",
    "- `(ln_2): LayerNorm((768,), eps=1e-05, elementwise_affine=True)`: Other normalization layer. The (ln_2) layer is applied after the residual connection, where the output of the GPT2Attention module (after resid_dropout) is added to the input of the block (the output of the initial ln_1 and dropout). This normalized output is then fed into the feed-forward network (MLP) within the GPT2Block.<br> Like ln_1, ln_2 performs layer normalization to stabilize and accelerate training by normalizing the input across the 768 feature dimensions for each token. It ensures that the combined output from the attention block and residual connection has consistent statistical properties, which is crucial before passing it to the non-linear feed-forward layers."
   ]
  },
  {
   "cell_type": "code",
   "execution_count": 16,
   "id": "a9d08c0c-e78a-4373-8c2e-3ed17dd8bc6d",
   "metadata": {},
   "outputs": [
    {
     "name": "stdout",
     "output_type": "stream",
     "text": [
      "ln_2 output shape: torch.Size([1, 6, 768])\n",
      "ln_2 output: tensor([[[ 3.8605e-02,  3.3201e-02, -4.4046e-02,  ..., -1.4648e-01,\n",
      "           2.3323e-01,  7.9626e-02],\n",
      "         [-1.4356e-04,  1.2792e-01, -1.0325e-01,  ..., -7.9846e-02,\n",
      "           1.5782e-01, -1.1437e-02],\n",
      "         [ 9.1684e-02,  9.8509e-02, -6.1494e-02,  ...,  4.9615e-02,\n",
      "          -1.8802e-02, -3.6460e-02],\n",
      "         [ 3.4916e-02,  1.1486e-01, -1.0481e-02,  ...,  1.2145e-01,\n",
      "           7.4712e-02,  7.1423e-02],\n",
      "         [ 1.2014e-01,  7.8262e-02,  1.7161e-02,  ..., -1.3898e-01,\n",
      "           1.9977e-01,  7.3096e-02],\n",
      "         [ 1.1336e-01, -1.3552e-02,  9.4564e-02,  ..., -1.5752e-01,\n",
      "           4.1171e-02,  1.3407e-01]]])\n"
     ]
    }
   ],
   "source": [
    "def hook4(module, hook_input, output):\n",
    "    print(\"ln_2 output shape:\", output.shape)\n",
    "    print(\"ln_2 output:\", output)\n",
    "\n",
    "# Attach hook to the ln_2 layer of the first block\n",
    "hook_handle = model.transformer.h[0].ln_2.register_forward_hook(hook4)\n",
    "\n",
    "with torch.no_grad():\n",
    "    model(tokens['input_ids'])\n",
    "\n",
    "hook_handle.remove()"
   ]
  },
  {
   "cell_type": "markdown",
   "id": "be4e9ac7-aac3-446f-a63a-91d170964e97",
   "metadata": {},
   "source": [
    "#### Feed-Forward Network (MLP)\n",
    "This layer represents the feed-forward network (FFN) within each transformer block, applying a non-linear transformation to the data. Let's check it: <br>\n",
    "`(mlp): GPT2MLP(`<br>\n",
    "`      (c_fc): Conv1D(nf=3072, nx=768)`<br>\n",
    "`      (c_proj): Conv1D(nf=768, nx=3072)`<br>\n",
    "`      (act): NewGELUActivation()`<br>\n",
    "`      (dropout): Dropout(p=0.1, inplace=False)`<br>\n",
    "`)`<br>\n",
    "<br>\n",
    " - `(c_fc): Conv1D(nf=3072, nx=768)`: A 1D convolution layer that expands the 768-dimensional input to a 3072-dimensional intermediate representation.The input from ln_2 (shape batch_size, seq_len, 768) is fed into c_fc, which uses a Conv1D with nf=3072 and nx=768."
   ]
  },
  {
   "cell_type": "code",
   "execution_count": 17,
   "id": "2fc873c8-9202-4b9e-b54d-ca23b847b689",
   "metadata": {},
   "outputs": [
    {
     "name": "stdout",
     "output_type": "stream",
     "text": [
      "c_fc output shape: torch.Size([1, 6, 3072])\n",
      "c_fc output: tensor([[[ 0.5976, -0.3890, -0.7655,  ..., -2.8732, -1.8182,  0.6358],\n",
      "         [ 0.8803,  0.5737,  0.1588,  ..., -1.5404, -0.9705,  0.1162],\n",
      "         [ 0.7707, -0.6079, -0.6141,  ..., -1.4422, -0.8109,  0.3963],\n",
      "         [ 0.5312, -0.1843, -0.6936,  ..., -1.0675, -0.8499,  0.4928],\n",
      "         [ 0.9267, -0.0587, -0.0083,  ..., -1.5407, -0.3576, -0.7753],\n",
      "         [ 0.6779, -0.7721,  0.0674,  ..., -2.0618, -0.8126,  0.4597]]])\n"
     ]
    }
   ],
   "source": [
    "def hook5(module, hook_input, output):\n",
    "    print(\"c_fc output shape:\", output.shape)\n",
    "    print(\"c_fc output:\", output)\n",
    "\n",
    "# Attach hook to the ln_2 layer of the first block\n",
    "hook_handle = model.transformer.h[0].mlp.c_fc.register_forward_hook(hook5)\n",
    "\n",
    "with torch.no_grad():\n",
    "    model(tokens['input_ids'])\n",
    "\n",
    "hook_handle.remove()"
   ]
  },
  {
   "cell_type": "markdown",
   "id": "1604c5dc-9415-4713-b8a8-2b8f75421d3d",
   "metadata": {},
   "source": [
    " - `(act): NewGELUActivation()`: Non-linear Activation with NewGELUActivation. The 3072-dimensional output from c_fc is passed through the NewGELUActivation function, a modified Gaussian Error Linear Unit (GELU) activation. GELU introduces non-linearity and is defined as: `GELU(x)=x⋅Φ(x)` where Φ(x) is the cumulative distribution function of the standard normal distribution. The \"NewGELU\" variant (used in GPT-2) is an approximation for efficiency."
   ]
  },
  {
   "cell_type": "code",
   "execution_count": 18,
   "id": "8d3d897b-d5d9-4e16-b808-c53385fd16ae",
   "metadata": {},
   "outputs": [
    {
     "name": "stdout",
     "output_type": "stream",
     "text": [
      "act output shape: torch.Size([1, 6, 3072])\n",
      "act output: tensor([[[ 0.4332, -0.1356, -0.1700,  ..., -0.0054, -0.0628,  0.4689],\n",
      "         [ 0.7135,  0.4113,  0.0894,  ..., -0.0953, -0.1611,  0.0635],\n",
      "         [ 0.6007, -0.1652, -0.1656,  ..., -0.1079, -0.1693,  0.2592],\n",
      "         [ 0.3731, -0.0787, -0.1693,  ..., -0.1527, -0.1681,  0.3395],\n",
      "         [ 0.7625, -0.0280, -0.0041,  ..., -0.0953, -0.1288, -0.1699],\n",
      "         [ 0.5091, -0.1700,  0.0355,  ..., -0.0403, -0.1693,  0.3113]]])\n"
     ]
    }
   ],
   "source": [
    "def hook6(module, hook_input, output):\n",
    "    print(\"act output shape:\", output.shape)\n",
    "    print(\"act output:\", output)\n",
    "\n",
    "# Attach hook to the ln_2 layer of the first block\n",
    "hook_handle = model.transformer.h[0].mlp.act.register_forward_hook(hook6)\n",
    "\n",
    "with torch.no_grad():\n",
    "    model(tokens['input_ids'])\n",
    "\n",
    "hook_handle.remove()"
   ]
  },
  {
   "cell_type": "markdown",
   "id": "a9ccb1a8-c762-45e0-bc67-9a0740f57723",
   "metadata": {},
   "source": [
    " - `(c_proj): Conv1D(nf=768, nx=3072)`: The activated 3072-dimensional vector is then projected back to 768 dimensions using c_proj (nf=768, nx=3072). The weight matrix size is 3072×768×1=2,359,2963072 \\times 768 \\times 1 = 2,359,2963072 \\times 768 \\times 1 = 2,359,296\n",
    " (plus 768 bias terms if included, totaling 2,360,064 parameters)."
   ]
  },
  {
   "cell_type": "code",
   "execution_count": 19,
   "id": "1e415fb4-2315-41e9-aa94-9b614449a94d",
   "metadata": {},
   "outputs": [
    {
     "name": "stdout",
     "output_type": "stream",
     "text": [
      "c_proj output shape: torch.Size([1, 6, 3072])\n",
      "c_proj output: tensor([[[ 0.4332, -0.1356, -0.1700,  ..., -0.0054, -0.0628,  0.4689],\n",
      "         [ 0.7135,  0.4113,  0.0894,  ..., -0.0953, -0.1611,  0.0635],\n",
      "         [ 0.6007, -0.1652, -0.1656,  ..., -0.1079, -0.1693,  0.2592],\n",
      "         [ 0.3731, -0.0787, -0.1693,  ..., -0.1527, -0.1681,  0.3395],\n",
      "         [ 0.7625, -0.0280, -0.0041,  ..., -0.0953, -0.1288, -0.1699],\n",
      "         [ 0.5091, -0.1700,  0.0355,  ..., -0.0403, -0.1693,  0.3113]]])\n"
     ]
    }
   ],
   "source": [
    "def hook7(module, hook_input, output):\n",
    "    print(\"c_proj output shape:\", output.shape)\n",
    "    print(\"c_proj output:\", output)\n",
    "\n",
    "# Attach hook to the ln_2 layer of the first block\n",
    "hook_handle = model.transformer.h[0].mlp.act.register_forward_hook(hook7)\n",
    "\n",
    "with torch.no_grad():\n",
    "    model(tokens['input_ids'])\n",
    "\n",
    "hook_handle.remove()"
   ]
  },
  {
   "cell_type": "markdown",
   "id": "44bbedb7-f1cd-4e27-8348-51dc557c46d4",
   "metadata": {},
   "source": [
    " - `(dropout): Dropout(p=0.1, inplace=False)`: A dropout layer with p=0.1 is applied to the 768-dimensional output, randomly setting 10% of the elements to zero during training. This regularizes the MLP output."
   ]
  },
  {
   "cell_type": "code",
   "execution_count": 20,
   "id": "f212eec2-ef94-4d92-853a-f98352d2b1a9",
   "metadata": {},
   "outputs": [
    {
     "name": "stdout",
     "output_type": "stream",
     "text": [
      "GPT2MLP output shape: torch.Size([1, 6, 768])\n",
      "GPT2MLP output: tensor([[[-0.5530, -0.2582, -1.3098,  ..., -1.5001, -0.3564, -1.5608],\n",
      "         [-1.4469,  0.3642, -1.3667,  ..., -0.5334,  0.1527, -2.2635],\n",
      "         [-0.6052, -0.2670, -0.3868,  ...,  0.7127,  0.1794,  0.4032],\n",
      "         [-0.1885,  0.0130,  0.5213,  ...,  0.0481,  0.6167, -0.6835],\n",
      "         [-0.4523,  0.1644, -0.0204,  ..., -0.6527, -1.7580, -1.2175],\n",
      "         [ 0.2289, -0.7968,  0.2175,  ..., -1.0243,  0.3720,  0.5569]]])\n"
     ]
    }
   ],
   "source": [
    "def hook8(module, hook_input, output):\n",
    "    print(\"GPT2MLP output shape:\", output.shape)\n",
    "    print(\"GPT2MLP output:\", output)\n",
    "\n",
    "# Attach hook to the mlp layer of the first block\n",
    "hook_handle = model.transformer.h[0].mlp.register_forward_hook(hook8)\n",
    "\n",
    "with torch.no_grad():\n",
    "    model(tokens['input_ids'])\n",
    "\n",
    "hook_handle.remove()"
   ]
  },
  {
   "cell_type": "markdown",
   "id": "bf46d856-8b09-424c-8fd1-62cb98f43dff",
   "metadata": {},
   "source": [
    "Exectuion order of steps is different form order shown in model details.<br>\n",
    "Execution order in the GPT2BlockInput:<br>\n",
    "ln_1 → GPT2Attention → Residual Connection → ln_2 → GPT2MLP → Residual Connection → Output. <br>\n",
    "ln_2 output → c_fc → NewGELUActivation → c_proj → dropout → Residual Addition.<br>\n",
    "<br>\n",
    "You can understand the execution order inspecting source code. There is a foward method.<br>\n",
    "```\n",
    "def forward(self, x):\n",
    "    hidden_states = self.c_fc(x)         # Project to 3072\n",
    "    hidden_states = self.act(hidden_states)  # Apply activation\n",
    "    hidden_states = self.c_proj(hidden_states)  # Project back to 768\n",
    "    hidden_states = self.dropout(hidden_states)  # Apply dropout\n",
    "    return hidden_states\n",
    "```\n",
    "\n",
    "Or you can inspect a foward pass, like the code below:"
   ]
  },
  {
   "cell_type": "code",
   "execution_count": 21,
   "id": "da676422-d89e-49e9-9e7d-c6838c35145a",
   "metadata": {},
   "outputs": [
    {
     "name": "stdout",
     "output_type": "stream",
     "text": [
      "Processed: c_fc, Input shape: torch.Size([1, 6, 768]), Output shape: torch.Size([1, 6, 3072])\n",
      "Processed: act, Input shape: torch.Size([1, 6, 3072]), Output shape: torch.Size([1, 6, 3072])\n",
      "Processed: c_proj, Input shape: torch.Size([1, 6, 3072]), Output shape: torch.Size([1, 6, 768])\n",
      "Processed: dropout, Input shape: torch.Size([1, 6, 768]), Output shape: torch.Size([1, 6, 768])\n",
      "Execution order: ['c_fc', 'act', 'c_proj', 'dropout']\n"
     ]
    }
   ],
   "source": [
    "# code to read exection order from model execution\n",
    "\n",
    "# Dictionary to store the order of layer execution\n",
    "execution_order = []\n",
    "hooks_handles = []\n",
    "\n",
    "# Hook function to record the order\n",
    "def hook9(module, hook_input, output, layer_name):\n",
    "    execution_order.append(layer_name)\n",
    "    print(f\"Processed: {layer_name}, Input shape: {hook_input[0].shape}, Output shape: {output.shape}\")\n",
    "\n",
    "# Attach hooks to each layer in the first block's MLP\n",
    "mlp = model.transformer.h[0].mlp\n",
    "for name, module in mlp.named_children():\n",
    "    handle = module.register_forward_hook(lambda m, i, o, n=name: hook9(m, i, o, n))\n",
    "    hooks_handles.append(handle)\n",
    "\n",
    "# Create a sample input\n",
    "with torch.no_grad():\n",
    "    model(tokens['input_ids'])\n",
    "\n",
    "# Print the execution order\n",
    "print(\"Execution order:\", execution_order)\n",
    "\n",
    "# remove hooks to each layer in the first block's MLP\n",
    "for hook in hooks_handles:\n",
    "    hook.remove()"
   ]
  },
  {
   "cell_type": "markdown",
   "id": "180cdbb3-2300-4b53-90e1-ce88b885e93f",
   "metadata": {},
   "source": [
    "### Final Normalization\n",
    "The ln_f layer is applied to the output of the last GPT2Block (after the residual connection of the MLP in the sixth block). This normalized output is then passed to the (lm_head) layer for the final language modeling prediction.<br>\n",
    "This layer normalizes the 768-dimensional embedding vectors across the feature dimension for each token in the sequence, ensuring the output is well-conditioned before the linear transformation to the vocabulary size (50257 in this case). It helps stabilize the final representation and prepares it for the prediction task (e.g., next token prediction).<br>\n",
    "\n",
    "`(ln_f): LayerNorm((768,), eps=1e-05, elementwise_affine=True)`\n"
   ]
  },
  {
   "cell_type": "code",
   "execution_count": 22,
   "id": "1aeb757a-a3a4-4628-abef-73087cff4467",
   "metadata": {},
   "outputs": [
    {
     "name": "stdout",
     "output_type": "stream",
     "text": [
      "ln_f output shape: torch.Size([1, 6, 768])\n",
      "ln_f output: tensor([[[-2.5024e-02,  3.6233e-01, -1.1136e-01,  ..., -1.8130e-01,\n",
      "           1.1482e-01, -1.8825e-01],\n",
      "         [-1.7677e-01,  9.3993e-02, -1.9730e-01,  ..., -2.3405e-01,\n",
      "           5.3724e-01, -2.4905e-01],\n",
      "         [ 1.9197e-01, -3.7879e-02,  1.3627e-02,  ...,  2.1321e-02,\n",
      "           1.8326e-01,  3.5414e-03],\n",
      "         [ 6.2068e-01,  3.8346e-01,  8.5196e-01,  ..., -2.4001e-02,\n",
      "           3.8335e-01, -4.9142e-01],\n",
      "         [ 1.4832e-01,  1.2018e-01,  7.5178e-02,  ..., -7.7200e-02,\n",
      "          -1.6340e-01, -5.0223e-04],\n",
      "         [ 3.6321e-02, -1.6660e-01, -4.7713e-02,  ..., -2.3693e-02,\n",
      "          -1.2833e-01,  5.3685e-02]]])\n"
     ]
    }
   ],
   "source": [
    "# Hook function to capture the output\n",
    "def hook10(module, hook_input, output):\n",
    "    print(\"ln_f output shape:\", output.shape)\n",
    "    print(\"ln_f output:\", output)\n",
    "\n",
    "# Attach hook to the ln_f layer\n",
    "hook_handle = model.transformer.ln_f.register_forward_hook(hook10)\n",
    "\n",
    "# Create a sample input\n",
    "with torch.no_grad():\n",
    "    outputs = model(tokens['input_ids'])\n",
    "\n",
    "# Remove the hook\n",
    "hook_handle.remove()"
   ]
  },
  {
   "cell_type": "markdown",
   "id": "03942445-fe92-4cb5-bd33-99ddc33db85a",
   "metadata": {},
   "source": [
    "### Final Normalization\n",
    "The final layer in the DistilGPT2 model after the (ln_f) normalization. The lm_head layer takes the normalized output from ln_f (shape [batch_size, seq_len, 768]) and produces the final output of the model, which is a set of logits for language modeling. This layer is applied after the transformer stack to map the hidden states to the vocabulary space.<br>\n",
    "It transforms the 768-dimensional hidden representations of each token into a probability distribution over the 50,257-token vocabulary, enabling the model to predict the next token in a sequence (e.g., for autoregressive tasks like text generation).<br>\n",
    "\n",
    "`(lm_head): Linear(in_features=768, out_features=50257, bias=False)`\n"
   ]
  },
  {
   "cell_type": "code",
   "execution_count": 25,
   "id": "ec2edab9-fb89-488a-b30e-8d13900ef468",
   "metadata": {},
   "outputs": [
    {
     "name": "stdout",
     "output_type": "stream",
     "text": [
      "lm_head output shape: torch.Size([1, 6, 50257])\n",
      "lm_head output (first few logits):\n",
      " tensor([[[-32.7786, -31.2604, -33.4580, -33.3068, -33.5693],\n",
      "         [-41.9481, -47.0836, -48.3396, -48.4019, -47.3441],\n",
      "         [-57.8325, -60.0321, -60.2201, -59.9341, -60.7340],\n",
      "         [-46.5706, -48.6622, -49.4792, -48.8984, -47.7866],\n",
      "         [-54.2288, -58.9350, -62.3507, -63.2325, -62.3509],\n",
      "         [-64.1996, -66.1278, -66.1443, -66.4251, -67.9091]]])\n"
     ]
    }
   ],
   "source": [
    "\n",
    "\n",
    "# Hook function to capture the output\n",
    "def hook11(module, hook_input, output):\n",
    "    print(\"lm_head output shape:\", output.shape)\n",
    "    print(\"lm_head output (first few logits):\\n\", output[:, :, :5]) \n",
    "\n",
    "# Attach hook to the lm_head layer\n",
    "hook_handle = model.lm_head.register_forward_hook(hook11)\n",
    "\n",
    "# Create a sample input\n",
    "with torch.no_grad():\n",
    "    outputs = model(tokens['input_ids'])\n",
    "\n",
    "# Remove the hook\n",
    "hook_handle.remove()"
   ]
  },
  {
   "cell_type": "markdown",
   "id": "b412c998-6944-426b-a004-2c11a7bc37d6",
   "metadata": {},
   "source": [
    "The (lm_head) layer produces a tensor of shape (batch_size, seq_len, 50257), where each element is a logit. These logits are unnormalized scores (raw numbers) representing the model’s preference for each of the 50,257 tokens in the vocabulary at each position in the sequence.<br>\n",
    "The logits are not probabilities. To convert them into a probability distribution, you need to apply a softmax function over the vocabulary dimension (axis 2) for each token position. The softmax normalizes the logits into values between 0 and 1 that sum to 1, interpretable as probabilities.<br>"
   ]
  },
  {
   "cell_type": "code",
   "execution_count": 28,
   "id": "28a1c461-9b9b-41a9-850a-4892404c2086",
   "metadata": {},
   "outputs": [
    {
     "name": "stdout",
     "output_type": "stream",
     "text": [
      "Probabilities for the last token (first 10): tensor([3.4514e-04, 5.0186e-05, 4.9366e-05, 3.7278e-05, 8.4521e-06, 7.9013e-06,\n",
      "        4.9008e-05, 1.5883e-04, 2.4542e-05, 1.6336e-04])\n"
     ]
    }
   ],
   "source": [
    "# using output from previous execution\n",
    "logits = outputs.logits\n",
    "\n",
    "# Convert logits to probabilities\n",
    "probabilities = torch.softmax(logits, dim=-1)\n",
    "\n",
    "# Print probabilities for the last token\n",
    "last_token_probs = probabilities[0, -1, :]  # Shape: [50257]\n",
    "print(\"Probabilities for the last token (first 10):\", last_token_probs[:10])"
   ]
  },
  {
   "cell_type": "markdown",
   "id": "d22e1285-ef03-4315-bcbc-870130c2a1bf",
   "metadata": {},
   "source": [
    "To determine the next token, you need to identify the token with the highest probability (or sample from the distribution, depending on the strategy). Ordering the probabilities helps you rank the tokens."
   ]
  },
  {
   "cell_type": "code",
   "execution_count": 29,
   "id": "c165753e-1a89-4b72-9359-c968749829a6",
   "metadata": {},
   "outputs": [
    {
     "name": "stdout",
     "output_type": "stream",
     "text": [
      "Most likely next token: \n",
      "\n",
      "Top 5 next tokens and probabilities: [('\\n', 0.40251022577285767), (' I', 0.11191854625940323), (' You', 0.021729281172156334), (' My', 0.018897606059908867), ('<|endoftext|>', 0.016403187066316605)]\n"
     ]
    }
   ],
   "source": [
    "# Get the index of the most likely token (greedy decoding)\n",
    "next_token_id = torch.argmax(last_token_probs).item()\n",
    "next_token = tokenizer.decode(next_token_id)\n",
    "print(f\"Most likely next token: {next_token}\")\n",
    "\n",
    "# Get top 5 tokens\n",
    "top_k_values, top_k_indices = torch.topk(last_token_probs, k=5)\n",
    "top_tokens = [tokenizer.decode(idx.item()) for idx in top_k_indices]\n",
    "print(f\"Top 5 next tokens and probabilities: {list(zip(top_tokens, top_k_values.tolist()))}\")"
   ]
  },
  {
   "cell_type": "code",
   "execution_count": 42,
   "id": "ccba7254-a4f4-442c-82fc-39f921de721c",
   "metadata": {},
   "outputs": [
    {
     "name": "stdout",
     "output_type": "stream",
     "text": [
      " The, I name,\n",
      "\n"
     ]
    }
   ],
   "source": [
    "response = ''\n",
    "\n",
    "for logit in probabilities[0]:\n",
    "    next_token_id = torch.argmax(logit).item()\n",
    "    next_token = tokenizer.decode(next_token_id)\n",
    "    #print(f'next token is: {next_token}')\n",
    "    response = response + next_token\n",
    "\n",
    "print(response)"
   ]
  },
  {
   "cell_type": "markdown",
   "id": "95bd8a22-0db2-4cb3-8857-e75df058c2c5",
   "metadata": {},
   "source": [
    "A few examples:"
   ]
  },
  {
   "cell_type": "code",
   "execution_count": 45,
   "id": "5781e6fe-eb6c-4d5a-b383-e00dac41d4bf",
   "metadata": {},
   "outputs": [
    {
     "data": {
      "text/plain": [
       "transformers.models.gpt2.modeling_gpt2.GPT2LMHeadModel"
      ]
     },
     "execution_count": 45,
     "metadata": {},
     "output_type": "execute_result"
    }
   ],
   "source": [
    "type(model)"
   ]
  },
  {
   "cell_type": "code",
   "execution_count": 67,
   "id": "6483578d-01db-4156-a63b-a03c8ee5a40e",
   "metadata": {},
   "outputs": [],
   "source": [
    "def generate_recursive(input_ids, model, current_length = 0, max_tokens = 20, end_token_id = 50256):\n",
    "    # Base cases: reached max_tokens or generated end token\n",
    "    if current_length >= max_tokens:\n",
    "        return input_ids\n",
    "    with torch.no_grad():  # Disable gradient computation\n",
    "        outputs = model(input_ids)\n",
    "        logits = outputs.logits[:, -1, :]  # Get logits for the last token\n",
    "        probabilities = torch.softmax(logits, dim=-1)\n",
    "        next_token_id = torch.argmax(probabilities, dim=-1).unsqueeze(0)  # Greedy decoding\n",
    "\n",
    "        # Check if end token is generated\n",
    "        if next_token_id.item() == end_token_id:\n",
    "            return torch.cat([input_ids, next_token_id], dim=-1)\n",
    "\n",
    "        # Recursive call with updated input\n",
    "        new_input_ids = torch.cat([input_ids, next_token_id], dim=-1)\n",
    "        return generate_recursive(new_input_ids, model, current_length + 1)\n",
    "    "
   ]
  },
  {
   "cell_type": "code",
   "execution_count": 70,
   "id": "6e9019df-c929-4a28-bafd-798afef98f0c",
   "metadata": {},
   "outputs": [],
   "source": [
    "def generate_text(messages, model, tokenizer):\n",
    "    input_ids = tokenizer.encode(messages, return_tensors=\"pt\")\n",
    "    generated_ids = generate_recursive(input_ids, model)\n",
    "    generated_text = tokenizer.decode(generated_ids[0], skip_special_tokens=False)\n",
    "    return generated_text\n",
    "    "
   ]
  },
  {
   "cell_type": "code",
   "execution_count": 71,
   "id": "00bfa573-4c75-42e4-bcea-cd85c3d740a6",
   "metadata": {},
   "outputs": [
    {
     "name": "stdout",
     "output_type": "stream",
     "text": [
      "Hello, my friend. How you doing?\n",
      "\n",
      "\n",
      "\n",
      "\n",
      "\n",
      "\n",
      "\n",
      "\n",
      "\n",
      "\n",
      "\n",
      "\n",
      "\n",
      "\n",
      "\n",
      "\n",
      "\n",
      "\n",
      "\n",
      "\n"
     ]
    }
   ],
   "source": [
    "message = \"Hello, my friend. How you doing?\"\n",
    "\n",
    "print(generate_text(message, model, tokenizer))"
   ]
  },
  {
   "cell_type": "code",
   "execution_count": 72,
   "id": "d2ae6227-bf66-439e-8ec8-7260a66382ed",
   "metadata": {},
   "outputs": [
    {
     "name": "stdout",
     "output_type": "stream",
     "text": [
      "My favorite color is the red. I love the color of the red. I love the color of the red. I\n"
     ]
    }
   ],
   "source": [
    "message = \"My favorite color is\"\n",
    "\n",
    "print(generate_text(message, model, tokenizer))"
   ]
  },
  {
   "cell_type": "code",
   "execution_count": 73,
   "id": "9fbd87bb-b711-4b5f-81e9-a18dc39f938f",
   "metadata": {},
   "outputs": [
    {
     "name": "stdout",
     "output_type": "stream",
     "text": [
      "Cats are iced with a little bit of salt.\n",
      "\n",
      "\n",
      "\n",
      "\n",
      "\n",
      "\n",
      "\n",
      "\n",
      "\n",
      "\n",
      "\n",
      "\n"
     ]
    }
   ],
   "source": [
    "message = \"Cats are \"\n",
    "\n",
    "print(generate_text(message, model, tokenizer))"
   ]
  },
  {
   "cell_type": "code",
   "execution_count": 74,
   "id": "d01cff98-2f0f-4fbb-bffa-00121c818c4a",
   "metadata": {},
   "outputs": [
    {
     "name": "stdout",
     "output_type": "stream",
     "text": [
      "Eu falo portugues ia falo portugues ia falo portugues ia falo portugues\n"
     ]
    }
   ],
   "source": [
    "message = \"Eu falo portugues \"\n",
    "\n",
    "print(generate_text(message, model, tokenizer))"
   ]
  },
  {
   "cell_type": "code",
   "execution_count": 75,
   "id": "829171e4-132f-4feb-a442-c9de15bd9fd2",
   "metadata": {},
   "outputs": [
    {
     "name": "stdout",
     "output_type": "stream",
     "text": [
      "Palmeiras não tem été de la vida de la vida de la vida de la vida de la\n"
     ]
    }
   ],
   "source": [
    "message = \"Palmeiras não tem \"\n",
    "\n",
    "print(generate_text(message, model, tokenizer))"
   ]
  },
  {
   "cell_type": "code",
   "execution_count": null,
   "id": "051cce68-b966-49c6-84f9-5ea2daf514ae",
   "metadata": {},
   "outputs": [],
   "source": []
  }
 ],
 "metadata": {
  "kernelspec": {
   "display_name": "Python 3 (ipykernel)",
   "language": "python",
   "name": "python3"
  },
  "language_info": {
   "codemirror_mode": {
    "name": "ipython",
    "version": 3
   },
   "file_extension": ".py",
   "mimetype": "text/x-python",
   "name": "python",
   "nbconvert_exporter": "python",
   "pygments_lexer": "ipython3",
   "version": "3.13.3"
  }
 },
 "nbformat": 4,
 "nbformat_minor": 5
}
